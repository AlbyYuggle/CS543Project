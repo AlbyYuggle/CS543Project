{
 "cells": [
  {
   "cell_type": "code",
   "execution_count": 1,
   "id": "01c48a95",
   "metadata": {},
   "outputs": [
    {
     "data": {
      "text/html": [
       "<style>.container { width:100% !important; }</style>"
      ],
      "text/plain": [
       "<IPython.core.display.HTML object>"
      ]
     },
     "metadata": {},
     "output_type": "display_data"
    }
   ],
   "source": [
    "from IPython.display import display, HTML\n",
    "display(HTML(\"<style>.container { width:100% !important; }</style>\"))"
   ]
  },
  {
   "cell_type": "code",
   "execution_count": 1,
   "id": "e16b3139",
   "metadata": {},
   "outputs": [],
   "source": [
    "import torch\n",
    "import torchvision\n",
    "import torchaudio\n",
    "import os\n",
    "from os.path import isfile, join, isdir, exists\n",
    "import numpy as np\n",
    "import matplotlib.pyplot as plt"
   ]
  },
  {
   "cell_type": "code",
   "execution_count": 3,
   "id": "862bb829",
   "metadata": {},
   "outputs": [
    {
     "data": {
      "text/plain": [
       "'NVIDIA GeForce RTX 3080'"
      ]
     },
     "execution_count": 3,
     "metadata": {},
     "output_type": "execute_result"
    }
   ],
   "source": [
    "torch.cuda.get_device_name(0)\n"
   ]
  },
  {
   "cell_type": "code",
   "execution_count": 4,
   "id": "aa9cab4d",
   "metadata": {},
   "outputs": [],
   "source": [
    "s_rate = 16000\n",
    "t = 10"
   ]
  },
  {
   "cell_type": "code",
   "execution_count": 5,
   "id": "b8d5bf7b",
   "metadata": {},
   "outputs": [
    {
     "name": "stderr",
     "output_type": "stream",
     "text": [
      "/tmp/ipykernel_5905/3562131082.py:36: RuntimeWarning: divide by zero encountered in log\n",
      "  log_ms = np.log(mel_specgram)\n"
     ]
    }
   ],
   "source": [
    "directory = \"maestro-v3.0.0\"\n",
    "save_directory = \"mel\"\n",
    "#if not exists(save_directory):\n",
    "    \n",
    "#    os.mkdir(\"./mel\")\n",
    "    \n",
    "dirnames = [f for f in os.listdir(directory) if isdir(join(directory, f))]\n",
    "\n",
    "for d in dirnames:\n",
    "    if not exists(join(save_directory, d)):\n",
    "        os.mkdir(join(save_directory, d))\n",
    "\n",
    "\n",
    "fnames = []\n",
    "for dirs in dirnames:\n",
    "    for f in os.listdir(join(directory, dirs)):\n",
    "        fnames.append(join(dirs, f))\n",
    "\n",
    "for fname in fnames:\n",
    "    f = fname\n",
    "    fname = join(directory, fname)\n",
    "    if(fname[-3:] != 'wav'):\n",
    "        continue\n",
    "    \n",
    "    waveform, sample_rate = torchaudio.load(fname, normalize=True)\n",
    "    waveform = torchaudio.functional.resample(waveform, sample_rate, s_rate)\n",
    "    waveform = torch.mean(waveform, dim=0, keepdim=True)[0]\n",
    "    for i in range(0, len(waveform), t*s_rate):\n",
    "        if(i+t*s_rate > len(waveform)):\n",
    "            break\n",
    "        \n",
    "        cur = waveform[i:i+t*s_rate]\n",
    "        \n",
    "        transform = torchaudio.transforms.MelSpectrogram(sample_rate=s_rate, n_fft=2048, win_length=2048, hop_length=160, n_mels=229, f_min=30, f_max=8000)\n",
    "        mel_specgram = transform(cur) \n",
    "        log_ms = np.log(mel_specgram)\n",
    "        \n",
    "        torch.save(log_ms, save_directory+\"/\"+f[:-4]+\"_\"+str(i//(t*s_rate))+\".pt\")\n",
    "\n",
    "\n",
    "  "
   ]
  },
  {
   "cell_type": "code",
   "execution_count": null,
   "id": "17162559",
   "metadata": {
    "scrolled": false
   },
   "outputs": [],
   "source": [
    "import mido\n",
    "\n",
    "directory = \"maestro-v3.0.0\"\n",
    "save_directory = \"mid\"\n",
    "#if not exists(save_directory):\n",
    "    \n",
    "#    os.mkdir(\"./mel\")\n",
    "    \n",
    "dirnames = [f for f in os.listdir(directory) if isdir(join(directory, f))]\n",
    "\n",
    "for d in dirnames:\n",
    "    if not exists(join(save_directory, d)):\n",
    "        os.mkdir(join(save_directory, d))\n",
    "\n",
    "\n",
    "fnames = []\n",
    "for dirs in dirnames:\n",
    "    for f in os.listdir(join(directory, dirs)):\n",
    "        fnames.append(join(dirs, f))\n",
    "\n",
    "for fname in fnames:\n",
    "    f = fname\n",
    "    fname = join(directory, fname)\n",
    "    if(fname[-4:] != 'midi'):\n",
    "        continue\n",
    "    \n",
    "    mid = mido.MidiFile(fname, clip=True)\n",
    "    \n",
    "    mlen = mid.length\n",
    "    mticks = mid.ticks_per_beat\n",
    "    #print(mticks)\n",
    "    out = np.zeros((88, mido.second2tick(mlen)))\n",
    "    indxs = np.zeros(88)\n",
    "    \n",
    "    \n",
    "    for msg in mid.track[1]:\n",
    "        note = msg.note\n",
    "        time = msg.time\n",
    "        on_value = 1 if msg.velocity != 0 else 0\n",
    "        \n",
    "        \n",
    "    '''\n",
    "    for i in range(0, len(waveform), t*s_rate):\n",
    "        if(i+t*s_rate > len(waveform)):\n",
    "            break\n",
    "        \n",
    "        cur = waveform[i:i+t*s_rate]\n",
    "        \n",
    "        \n",
    "        torch.save(log_ms, save_directory+\"/\"+f[:-4]+\"_\"+str(i//(t*s_rate))+\".pt\")\n",
    "\n",
    "    '''\n",
    "    if(mticks != 384):\n",
    "        print(\"dogg\", mticks)"
   ]
  },
  {
   "cell_type": "code",
   "execution_count": null,
   "id": "9cb879f6",
   "metadata": {},
   "outputs": [],
   "source": []
  }
 ],
 "metadata": {
  "kernelspec": {
   "display_name": "Python 3.10.6 ('venv')",
   "language": "python",
   "name": "python3"
  },
  "language_info": {
   "codemirror_mode": {
    "name": "ipython",
    "version": 3
   },
   "file_extension": ".py",
   "mimetype": "text/x-python",
   "name": "python",
   "nbconvert_exporter": "python",
   "pygments_lexer": "ipython3",
   "version": "3.10.6"
  },
  "vscode": {
   "interpreter": {
    "hash": "30b8e842a63c7ad0776f9d5e8552b70bd5f6f86458a70c53dd0b35251a199490"
   }
  }
 },
 "nbformat": 4,
 "nbformat_minor": 5
}
